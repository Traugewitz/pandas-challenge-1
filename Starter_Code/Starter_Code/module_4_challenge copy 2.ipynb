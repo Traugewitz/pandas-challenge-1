{
 "cells": [
  {
   "cell_type": "markdown",
   "id": "dc0318d6",
   "metadata": {},
   "source": [
    "## Part 1: Explore the Data\n",
    "\n",
    "Import the data and use Pandas to learn more about the dataset."
   ]
  },
  {
   "cell_type": "code",
   "execution_count": 1,
   "id": "e076f57f",
   "metadata": {},
   "outputs": [
    {
     "data": {
      "text/html": [
       "<div>\n",
       "<style scoped>\n",
       "    .dataframe tbody tr th:only-of-type {\n",
       "        vertical-align: middle;\n",
       "    }\n",
       "\n",
       "    .dataframe tbody tr th {\n",
       "        vertical-align: top;\n",
       "    }\n",
       "\n",
       "    .dataframe thead th {\n",
       "        text-align: right;\n",
       "    }\n",
       "</style>\n",
       "<table border=\"1\" class=\"dataframe\">\n",
       "  <thead>\n",
       "    <tr style=\"text-align: right;\">\n",
       "      <th></th>\n",
       "      <th>first</th>\n",
       "      <th>last</th>\n",
       "      <th>job</th>\n",
       "      <th>phone</th>\n",
       "      <th>email</th>\n",
       "      <th>client_id</th>\n",
       "      <th>order_id</th>\n",
       "      <th>order_date</th>\n",
       "      <th>order_week</th>\n",
       "      <th>order_year</th>\n",
       "      <th>item_id</th>\n",
       "      <th>category</th>\n",
       "      <th>subcategory</th>\n",
       "      <th>unit_price</th>\n",
       "      <th>unit_cost</th>\n",
       "      <th>unit_weight</th>\n",
       "      <th>qty</th>\n",
       "      <th>line_number</th>\n",
       "    </tr>\n",
       "  </thead>\n",
       "  <tbody>\n",
       "    <tr>\n",
       "      <th>0</th>\n",
       "      <td>Donald</td>\n",
       "      <td>Harding</td>\n",
       "      <td>Immunologist</td>\n",
       "      <td>793-904-7725x39308</td>\n",
       "      <td>harding.donald.7185@sullivan.com</td>\n",
       "      <td>58515</td>\n",
       "      <td>8953482</td>\n",
       "      <td>2023-04-28</td>\n",
       "      <td>17</td>\n",
       "      <td>2023</td>\n",
       "      <td>EUD29711-63-6U</td>\n",
       "      <td>decor</td>\n",
       "      <td>wall art</td>\n",
       "      <td>1096.80</td>\n",
       "      <td>762.71</td>\n",
       "      <td>7.50</td>\n",
       "      <td>105</td>\n",
       "      <td>1</td>\n",
       "    </tr>\n",
       "    <tr>\n",
       "      <th>1</th>\n",
       "      <td>Tiffany</td>\n",
       "      <td>Myers</td>\n",
       "      <td>Music therapist</td>\n",
       "      <td>201.442.4543x942</td>\n",
       "      <td>myers.t.6537@ferguson-johnson.net</td>\n",
       "      <td>37609</td>\n",
       "      <td>8069089</td>\n",
       "      <td>2023-05-19</td>\n",
       "      <td>20</td>\n",
       "      <td>2023</td>\n",
       "      <td>XDA18116-89-4A</td>\n",
       "      <td>consumables</td>\n",
       "      <td>pens</td>\n",
       "      <td>24.95</td>\n",
       "      <td>15.09</td>\n",
       "      <td>1.49</td>\n",
       "      <td>21</td>\n",
       "      <td>0</td>\n",
       "    </tr>\n",
       "    <tr>\n",
       "      <th>2</th>\n",
       "      <td>Shannon</td>\n",
       "      <td>Watson</td>\n",
       "      <td>Immunologist</td>\n",
       "      <td>687.737.9424x8503</td>\n",
       "      <td>swatson8146@payne.net</td>\n",
       "      <td>57113</td>\n",
       "      <td>1902144</td>\n",
       "      <td>2023-01-29</td>\n",
       "      <td>4</td>\n",
       "      <td>2023</td>\n",
       "      <td>ABE59463-05-7E</td>\n",
       "      <td>software</td>\n",
       "      <td>project management</td>\n",
       "      <td>13.52</td>\n",
       "      <td>7.86</td>\n",
       "      <td>1.68</td>\n",
       "      <td>39</td>\n",
       "      <td>6</td>\n",
       "    </tr>\n",
       "    <tr>\n",
       "      <th>3</th>\n",
       "      <td>Nathan</td>\n",
       "      <td>Baker</td>\n",
       "      <td>Accounting technician</td>\n",
       "      <td>827-788-8123x012</td>\n",
       "      <td>bakernathan@benson.com</td>\n",
       "      <td>46554</td>\n",
       "      <td>9031802</td>\n",
       "      <td>2023-04-25</td>\n",
       "      <td>17</td>\n",
       "      <td>2023</td>\n",
       "      <td>ZMM00836-65-0C</td>\n",
       "      <td>consumables</td>\n",
       "      <td>pens</td>\n",
       "      <td>36.42</td>\n",
       "      <td>24.85</td>\n",
       "      <td>1.23</td>\n",
       "      <td>29</td>\n",
       "      <td>3</td>\n",
       "    </tr>\n",
       "    <tr>\n",
       "      <th>4</th>\n",
       "      <td>Christina</td>\n",
       "      <td>Schwartz</td>\n",
       "      <td>Chiropractor</td>\n",
       "      <td>265-829-3643</td>\n",
       "      <td>christinaschwartz9252@mcconnell.com</td>\n",
       "      <td>92089</td>\n",
       "      <td>1322274</td>\n",
       "      <td>2023-05-28</td>\n",
       "      <td>21</td>\n",
       "      <td>2023</td>\n",
       "      <td>BZX55559-12-3X</td>\n",
       "      <td>consumables</td>\n",
       "      <td>misc</td>\n",
       "      <td>195.10</td>\n",
       "      <td>108.17</td>\n",
       "      <td>46.43</td>\n",
       "      <td>20</td>\n",
       "      <td>1</td>\n",
       "    </tr>\n",
       "  </tbody>\n",
       "</table>\n",
       "</div>"
      ],
      "text/plain": [
       "       first      last                    job               phone  \\\n",
       "0     Donald   Harding           Immunologist  793-904-7725x39308   \n",
       "1    Tiffany     Myers        Music therapist    201.442.4543x942   \n",
       "2    Shannon    Watson           Immunologist   687.737.9424x8503   \n",
       "3     Nathan     Baker  Accounting technician    827-788-8123x012   \n",
       "4  Christina  Schwartz           Chiropractor        265-829-3643   \n",
       "\n",
       "                                 email  client_id  order_id  order_date  \\\n",
       "0     harding.donald.7185@sullivan.com      58515   8953482  2023-04-28   \n",
       "1    myers.t.6537@ferguson-johnson.net      37609   8069089  2023-05-19   \n",
       "2                swatson8146@payne.net      57113   1902144  2023-01-29   \n",
       "3               bakernathan@benson.com      46554   9031802  2023-04-25   \n",
       "4  christinaschwartz9252@mcconnell.com      92089   1322274  2023-05-28   \n",
       "\n",
       "   order_week  order_year         item_id     category         subcategory  \\\n",
       "0          17        2023  EUD29711-63-6U        decor            wall art   \n",
       "1          20        2023  XDA18116-89-4A  consumables                pens   \n",
       "2           4        2023  ABE59463-05-7E     software  project management   \n",
       "3          17        2023  ZMM00836-65-0C  consumables                pens   \n",
       "4          21        2023  BZX55559-12-3X  consumables                misc   \n",
       "\n",
       "   unit_price  unit_cost  unit_weight  qty  line_number  \n",
       "0     1096.80     762.71         7.50  105            1  \n",
       "1       24.95      15.09         1.49   21            0  \n",
       "2       13.52       7.86         1.68   39            6  \n",
       "3       36.42      24.85         1.23   29            3  \n",
       "4      195.10     108.17        46.43   20            1  "
      ]
     },
     "execution_count": 1,
     "metadata": {},
     "output_type": "execute_result"
    }
   ],
   "source": [
    "import pandas as pd\n",
    "\n",
    "df = pd.read_csv('Resources/client_dataset.csv')\n",
    "\n",
    "df.head()"
   ]
  },
  {
   "cell_type": "code",
   "execution_count": 2,
   "metadata": {},
   "outputs": [
    {
     "data": {
      "text/plain": [
       "Index(['first', 'last', 'job', 'phone', 'email', 'client_id', 'order_id',\n",
       "       'order_date', 'order_week', 'order_year', 'item_id', 'category',\n",
       "       'subcategory', 'unit_price', 'unit_cost', 'unit_weight', 'qty',\n",
       "       'line_number'],\n",
       "      dtype='object')"
      ]
     },
     "execution_count": 2,
     "metadata": {},
     "output_type": "execute_result"
    }
   ],
   "source": [
    "# View the column names in the data\n",
    "df.columns"
   ]
  },
  {
   "cell_type": "code",
   "execution_count": 3,
   "id": "bc0f4172",
   "metadata": {},
   "outputs": [
    {
     "data": {
      "text/html": [
       "<div>\n",
       "<style scoped>\n",
       "    .dataframe tbody tr th:only-of-type {\n",
       "        vertical-align: middle;\n",
       "    }\n",
       "\n",
       "    .dataframe tbody tr th {\n",
       "        vertical-align: top;\n",
       "    }\n",
       "\n",
       "    .dataframe thead th {\n",
       "        text-align: right;\n",
       "    }\n",
       "</style>\n",
       "<table border=\"1\" class=\"dataframe\">\n",
       "  <thead>\n",
       "    <tr style=\"text-align: right;\">\n",
       "      <th></th>\n",
       "      <th>client_id</th>\n",
       "      <th>order_id</th>\n",
       "      <th>order_week</th>\n",
       "      <th>order_year</th>\n",
       "      <th>unit_price</th>\n",
       "      <th>unit_cost</th>\n",
       "      <th>unit_weight</th>\n",
       "      <th>qty</th>\n",
       "      <th>line_number</th>\n",
       "    </tr>\n",
       "  </thead>\n",
       "  <tbody>\n",
       "    <tr>\n",
       "      <th>count</th>\n",
       "      <td>54639.000000</td>\n",
       "      <td>5.463900e+04</td>\n",
       "      <td>54639.000000</td>\n",
       "      <td>54639.000000</td>\n",
       "      <td>54639.000000</td>\n",
       "      <td>54639.000000</td>\n",
       "      <td>54639.000000</td>\n",
       "      <td>5.463900e+04</td>\n",
       "      <td>54639.000000</td>\n",
       "    </tr>\n",
       "    <tr>\n",
       "      <th>mean</th>\n",
       "      <td>54837.869416</td>\n",
       "      <td>5.470190e+06</td>\n",
       "      <td>11.359139</td>\n",
       "      <td>2022.993064</td>\n",
       "      <td>136.267207</td>\n",
       "      <td>99.446073</td>\n",
       "      <td>5.004116</td>\n",
       "      <td>5.702646e+02</td>\n",
       "      <td>2.979667</td>\n",
       "    </tr>\n",
       "    <tr>\n",
       "      <th>std</th>\n",
       "      <td>25487.438231</td>\n",
       "      <td>2.599807e+06</td>\n",
       "      <td>7.023499</td>\n",
       "      <td>0.082997</td>\n",
       "      <td>183.873135</td>\n",
       "      <td>133.164267</td>\n",
       "      <td>5.326599</td>\n",
       "      <td>1.879552e+04</td>\n",
       "      <td>2.436320</td>\n",
       "    </tr>\n",
       "    <tr>\n",
       "      <th>min</th>\n",
       "      <td>10033.000000</td>\n",
       "      <td>1.000886e+06</td>\n",
       "      <td>1.000000</td>\n",
       "      <td>2022.000000</td>\n",
       "      <td>0.010000</td>\n",
       "      <td>0.010000</td>\n",
       "      <td>0.000000</td>\n",
       "      <td>0.000000e+00</td>\n",
       "      <td>0.000000</td>\n",
       "    </tr>\n",
       "    <tr>\n",
       "      <th>25%</th>\n",
       "      <td>33593.000000</td>\n",
       "      <td>3.196372e+06</td>\n",
       "      <td>6.000000</td>\n",
       "      <td>2023.000000</td>\n",
       "      <td>20.800000</td>\n",
       "      <td>14.840000</td>\n",
       "      <td>1.450000</td>\n",
       "      <td>3.200000e+01</td>\n",
       "      <td>1.000000</td>\n",
       "    </tr>\n",
       "    <tr>\n",
       "      <th>50%</th>\n",
       "      <td>53305.000000</td>\n",
       "      <td>5.496966e+06</td>\n",
       "      <td>11.000000</td>\n",
       "      <td>2023.000000</td>\n",
       "      <td>68.310000</td>\n",
       "      <td>49.890000</td>\n",
       "      <td>3.240000</td>\n",
       "      <td>6.800000e+01</td>\n",
       "      <td>3.000000</td>\n",
       "    </tr>\n",
       "    <tr>\n",
       "      <th>75%</th>\n",
       "      <td>78498.000000</td>\n",
       "      <td>7.733869e+06</td>\n",
       "      <td>17.000000</td>\n",
       "      <td>2023.000000</td>\n",
       "      <td>173.160000</td>\n",
       "      <td>125.570000</td>\n",
       "      <td>6.890000</td>\n",
       "      <td>1.700000e+02</td>\n",
       "      <td>5.000000</td>\n",
       "    </tr>\n",
       "    <tr>\n",
       "      <th>max</th>\n",
       "      <td>99984.000000</td>\n",
       "      <td>9.998480e+06</td>\n",
       "      <td>52.000000</td>\n",
       "      <td>2023.000000</td>\n",
       "      <td>1396.230000</td>\n",
       "      <td>846.270000</td>\n",
       "      <td>46.430000</td>\n",
       "      <td>3.958244e+06</td>\n",
       "      <td>9.000000</td>\n",
       "    </tr>\n",
       "  </tbody>\n",
       "</table>\n",
       "</div>"
      ],
      "text/plain": [
       "          client_id      order_id    order_week    order_year    unit_price  \\\n",
       "count  54639.000000  5.463900e+04  54639.000000  54639.000000  54639.000000   \n",
       "mean   54837.869416  5.470190e+06     11.359139   2022.993064    136.267207   \n",
       "std    25487.438231  2.599807e+06      7.023499      0.082997    183.873135   \n",
       "min    10033.000000  1.000886e+06      1.000000   2022.000000      0.010000   \n",
       "25%    33593.000000  3.196372e+06      6.000000   2023.000000     20.800000   \n",
       "50%    53305.000000  5.496966e+06     11.000000   2023.000000     68.310000   \n",
       "75%    78498.000000  7.733869e+06     17.000000   2023.000000    173.160000   \n",
       "max    99984.000000  9.998480e+06     52.000000   2023.000000   1396.230000   \n",
       "\n",
       "          unit_cost   unit_weight           qty   line_number  \n",
       "count  54639.000000  54639.000000  5.463900e+04  54639.000000  \n",
       "mean      99.446073      5.004116  5.702646e+02      2.979667  \n",
       "std      133.164267      5.326599  1.879552e+04      2.436320  \n",
       "min        0.010000      0.000000  0.000000e+00      0.000000  \n",
       "25%       14.840000      1.450000  3.200000e+01      1.000000  \n",
       "50%       49.890000      3.240000  6.800000e+01      3.000000  \n",
       "75%      125.570000      6.890000  1.700000e+02      5.000000  \n",
       "max      846.270000     46.430000  3.958244e+06      9.000000  "
      ]
     },
     "execution_count": 3,
     "metadata": {},
     "output_type": "execute_result"
    }
   ],
   "source": [
    "# Use the describe function to gather some basic statistics\n",
    "df.describe()\n",
    "\n"
   ]
  },
  {
   "cell_type": "code",
   "execution_count": 4,
   "id": "b24b53cc",
   "metadata": {},
   "outputs": [],
   "source": [
    "# Use this space to do any additional research\n",
    "# and familiarize yourself with the data.\n",
    "\n"
   ]
  },
  {
   "cell_type": "code",
   "execution_count": 5,
   "id": "551cb358",
   "metadata": {},
   "outputs": [
    {
     "data": {
      "text/plain": [
       "category\n",
       "consumables    23538\n",
       "furniture      11915\n",
       "software        8400\n",
       "Name: count, dtype: int64"
      ]
     },
     "execution_count": 5,
     "metadata": {},
     "output_type": "execute_result"
    }
   ],
   "source": [
    "# What three item categories had the most entries?\n",
    "df['category'].value_counts().head(3)\n"
   ]
  },
  {
   "cell_type": "code",
   "execution_count": 6,
   "id": "5f54e2cf",
   "metadata": {},
   "outputs": [
    {
     "name": "stdout",
     "output_type": "stream",
     "text": [
      "subcategory\n",
      "bathroom supplies    6424\n",
      "Name: count, dtype: int64\n"
     ]
    }
   ],
   "source": [
    "# For the category with the most entries,\n",
    "# which subcategory had the most entries?\n",
    "category_with_most_entries=df['category'].value_counts().idxmax()\n",
    "\n",
    "filtered_df = df.loc[df['category'] == category_with_most_entries]\n",
    "subcategory_counts = filtered_df['subcategory'].value_counts().head(1)\n",
    "print(subcategory_counts)\n",
    "\n",
    "\n"
   ]
  },
  {
   "cell_type": "code",
   "execution_count": 7,
   "id": "2db94379",
   "metadata": {},
   "outputs": [
    {
     "data": {
      "text/plain": [
       "client_id\n",
       "33615    220\n",
       "66037    211\n",
       "46820    209\n",
       "38378    207\n",
       "24741    207\n",
       "Name: count, dtype: int64"
      ]
     },
     "execution_count": 7,
     "metadata": {},
     "output_type": "execute_result"
    }
   ],
   "source": [
    "# Which five clients had the most entries in the data?\n",
    "df['client_id'].value_counts().head(5)\n",
    "\n"
   ]
  },
  {
   "cell_type": "code",
   "execution_count": 8,
   "id": "a6635601",
   "metadata": {},
   "outputs": [
    {
     "data": {
      "text/plain": [
       "[33615, 66037, 46820, 38378, 24741]"
      ]
     },
     "execution_count": 8,
     "metadata": {},
     "output_type": "execute_result"
    }
   ],
   "source": [
    "# Store the client ids of those top 5 clients in a list. #the index stores it as a variable separate from current file\n",
    "list(df['client_id'].value_counts().head(5).index)\n"
   ]
  },
  {
   "cell_type": "code",
   "execution_count": 9,
   "id": "c88b8a3e",
   "metadata": {},
   "outputs": [
    {
     "name": "stdout",
     "output_type": "stream",
     "text": [
      "64313\n"
     ]
    }
   ],
   "source": [
    "# How many total units (the 'qty' column) did the\n",
    "# client with the most entries order order?\n",
    "df['client_id'].value_counts().head(1)\n",
    "client_with_most_entries = df['client_id'].value_counts().head(1)\n",
    "#trying to come up with formula so that 33615 is not hard coded in\n",
    "\n",
    "total_units_df = df.loc[df['client_id'] == 33615, 'qty'].sum()\n",
    "print(total_units_df)"
   ]
  },
  {
   "cell_type": "markdown",
   "id": "257fcd7d",
   "metadata": {},
   "source": [
    "## Part 2: Transform the Data\n",
    "Do we know that this client spent the more money than client 66037? If not, how would we find out? Transform the data using the steps below to prepare it for analysis."
   ]
  },
  {
   "cell_type": "code",
   "execution_count": 10,
   "id": "0c25c4a8",
   "metadata": {},
   "outputs": [
    {
     "data": {
      "text/html": [
       "<div>\n",
       "<style scoped>\n",
       "    .dataframe tbody tr th:only-of-type {\n",
       "        vertical-align: middle;\n",
       "    }\n",
       "\n",
       "    .dataframe tbody tr th {\n",
       "        vertical-align: top;\n",
       "    }\n",
       "\n",
       "    .dataframe thead th {\n",
       "        text-align: right;\n",
       "    }\n",
       "</style>\n",
       "<table border=\"1\" class=\"dataframe\">\n",
       "  <thead>\n",
       "    <tr style=\"text-align: right;\">\n",
       "      <th></th>\n",
       "      <th>unit_price</th>\n",
       "      <th>qty</th>\n",
       "      <th>line_subtotal</th>\n",
       "    </tr>\n",
       "  </thead>\n",
       "  <tbody>\n",
       "    <tr>\n",
       "      <th>0</th>\n",
       "      <td>1096.80</td>\n",
       "      <td>105</td>\n",
       "      <td>115164.00</td>\n",
       "    </tr>\n",
       "    <tr>\n",
       "      <th>1</th>\n",
       "      <td>24.95</td>\n",
       "      <td>21</td>\n",
       "      <td>523.95</td>\n",
       "    </tr>\n",
       "    <tr>\n",
       "      <th>2</th>\n",
       "      <td>13.52</td>\n",
       "      <td>39</td>\n",
       "      <td>527.28</td>\n",
       "    </tr>\n",
       "    <tr>\n",
       "      <th>3</th>\n",
       "      <td>36.42</td>\n",
       "      <td>29</td>\n",
       "      <td>1056.18</td>\n",
       "    </tr>\n",
       "    <tr>\n",
       "      <th>4</th>\n",
       "      <td>195.10</td>\n",
       "      <td>20</td>\n",
       "      <td>3902.00</td>\n",
       "    </tr>\n",
       "  </tbody>\n",
       "</table>\n",
       "</div>"
      ],
      "text/plain": [
       "   unit_price  qty  line_subtotal\n",
       "0     1096.80  105      115164.00\n",
       "1       24.95   21         523.95\n",
       "2       13.52   39         527.28\n",
       "3       36.42   29        1056.18\n",
       "4      195.10   20        3902.00"
      ]
     },
     "execution_count": 10,
     "metadata": {},
     "output_type": "execute_result"
    }
   ],
   "source": [
    "# Create a column that calculates the \n",
    "# subtotal for each line using the unit_price\n",
    "# and the qty ## it is not apply, just math\n",
    "df['line_subtotal'] = df['qty'] * df['unit_price']\n",
    "df[['unit_price','qty','line_subtotal']].head()"
   ]
  },
  {
   "cell_type": "code",
   "execution_count": 11,
   "metadata": {},
   "outputs": [
    {
     "data": {
      "text/html": [
       "<div>\n",
       "<style scoped>\n",
       "    .dataframe tbody tr th:only-of-type {\n",
       "        vertical-align: middle;\n",
       "    }\n",
       "\n",
       "    .dataframe tbody tr th {\n",
       "        vertical-align: top;\n",
       "    }\n",
       "\n",
       "    .dataframe thead th {\n",
       "        text-align: right;\n",
       "    }\n",
       "</style>\n",
       "<table border=\"1\" class=\"dataframe\">\n",
       "  <thead>\n",
       "    <tr style=\"text-align: right;\">\n",
       "      <th></th>\n",
       "      <th>unit_price</th>\n",
       "      <th>unit_weight</th>\n",
       "      <th>qty</th>\n",
       "      <th>total_weight</th>\n",
       "      <th>final_shipping_rate_lb</th>\n",
       "    </tr>\n",
       "  </thead>\n",
       "  <tbody>\n",
       "    <tr>\n",
       "      <th>0</th>\n",
       "      <td>1096.80</td>\n",
       "      <td>7.50</td>\n",
       "      <td>105</td>\n",
       "      <td>787.50</td>\n",
       "      <td>5512.50</td>\n",
       "    </tr>\n",
       "    <tr>\n",
       "      <th>1</th>\n",
       "      <td>24.95</td>\n",
       "      <td>1.49</td>\n",
       "      <td>21</td>\n",
       "      <td>31.29</td>\n",
       "      <td>312.90</td>\n",
       "    </tr>\n",
       "    <tr>\n",
       "      <th>2</th>\n",
       "      <td>13.52</td>\n",
       "      <td>1.68</td>\n",
       "      <td>39</td>\n",
       "      <td>65.52</td>\n",
       "      <td>458.64</td>\n",
       "    </tr>\n",
       "  </tbody>\n",
       "</table>\n",
       "</div>"
      ],
      "text/plain": [
       "   unit_price  unit_weight  qty  total_weight  final_shipping_rate_lb\n",
       "0     1096.80         7.50  105        787.50                 5512.50\n",
       "1       24.95         1.49   21         31.29                  312.90\n",
       "2       13.52         1.68   39         65.52                  458.64"
      ]
     },
     "execution_count": 11,
     "metadata": {},
     "output_type": "execute_result"
    }
   ],
   "source": [
    "# Create a column for shipping price.\n",
    "# Assume a shipping price of $7 per pound \n",
    "# for orders over 50 pounds and\n",
    "# $10 per pound for items 50 pounds or under.\n",
    "\n",
    "#Calculate total_weight\n",
    "total_weight = df['unit_weight'] * df['qty']\n",
    "df['total_weight'] = total_weight\n",
    "\n",
    "def shipping_rate_lb(weight):\n",
    "    if weight > 50:  \n",
    "        return weight * 7.00  \n",
    "    return weight * 10.00   \n",
    "\n",
    "df['final_shipping_rate_lb'] = df['total_weight'].apply(shipping_rate_lb)\n",
    "df[['unit_price', 'unit_weight', 'qty', 'total_weight', 'final_shipping_rate_lb']].head(3)\n",
    "\n"
   ]
  },
  {
   "cell_type": "code",
   "execution_count": 12,
   "metadata": {},
   "outputs": [
    {
     "data": {
      "text/plain": [
       "0        115164.00\n",
       "1           523.95\n",
       "2           527.28\n",
       "3          1056.18\n",
       "4          3902.00\n",
       "           ...    \n",
       "54634      2743.29\n",
       "54635      9709.73\n",
       "54636     31188.50\n",
       "54637       165.76\n",
       "54638      3103.31\n",
       "Name: line_subtotal, Length: 54639, dtype: float64"
      ]
     },
     "execution_count": 12,
     "metadata": {},
     "output_type": "execute_result"
    }
   ],
   "source": [
    "df['line_subtotal']"
   ]
  },
  {
   "cell_type": "code",
   "execution_count": 13,
   "id": "77f42c67",
   "metadata": {},
   "outputs": [
    {
     "data": {
      "text/html": [
       "<div>\n",
       "<style scoped>\n",
       "    .dataframe tbody tr th:only-of-type {\n",
       "        vertical-align: middle;\n",
       "    }\n",
       "\n",
       "    .dataframe tbody tr th {\n",
       "        vertical-align: top;\n",
       "    }\n",
       "\n",
       "    .dataframe thead th {\n",
       "        text-align: right;\n",
       "    }\n",
       "</style>\n",
       "<table border=\"1\" class=\"dataframe\">\n",
       "  <thead>\n",
       "    <tr style=\"text-align: right;\">\n",
       "      <th></th>\n",
       "      <th>line_subtotal</th>\n",
       "      <th>final_shipping_rate_lb</th>\n",
       "      <th>TotalPrice</th>\n",
       "    </tr>\n",
       "  </thead>\n",
       "  <tbody>\n",
       "    <tr>\n",
       "      <th>0</th>\n",
       "      <td>115164.00</td>\n",
       "      <td>5512.50</td>\n",
       "      <td>131839.08</td>\n",
       "    </tr>\n",
       "    <tr>\n",
       "      <th>1</th>\n",
       "      <td>523.95</td>\n",
       "      <td>312.90</td>\n",
       "      <td>914.26</td>\n",
       "    </tr>\n",
       "    <tr>\n",
       "      <th>2</th>\n",
       "      <td>527.28</td>\n",
       "      <td>458.64</td>\n",
       "      <td>1077.12</td>\n",
       "    </tr>\n",
       "  </tbody>\n",
       "</table>\n",
       "</div>"
      ],
      "text/plain": [
       "   line_subtotal  final_shipping_rate_lb  TotalPrice\n",
       "0      115164.00                 5512.50   131839.08\n",
       "1         523.95                  312.90      914.26\n",
       "2         527.28                  458.64     1077.12"
      ]
     },
     "execution_count": 13,
     "metadata": {},
     "output_type": "execute_result"
    }
   ],
   "source": [
    "# Create a column for the total price\n",
    "# using the subtotal and the shipping price\n",
    "# along with a sales tax of 9.25%\n",
    "sales_tax_rate = 1.0925\n",
    "df['TotalPrice'] = (df['line_subtotal'] + df['final_shipping_rate_lb']) * sales_tax_rate\n",
    "df['TotalPrice'] = df['TotalPrice'].round(2)\n",
    "df[['line_subtotal', 'final_shipping_rate_lb','TotalPrice']].head(3)\n"
   ]
  },
  {
   "cell_type": "code",
   "execution_count": 14,
   "id": "c82ad275",
   "metadata": {},
   "outputs": [
    {
     "data": {
      "text/html": [
       "<div>\n",
       "<style scoped>\n",
       "    .dataframe tbody tr th:only-of-type {\n",
       "        vertical-align: middle;\n",
       "    }\n",
       "\n",
       "    .dataframe tbody tr th {\n",
       "        vertical-align: top;\n",
       "    }\n",
       "\n",
       "    .dataframe thead th {\n",
       "        text-align: right;\n",
       "    }\n",
       "</style>\n",
       "<table border=\"1\" class=\"dataframe\">\n",
       "  <thead>\n",
       "    <tr style=\"text-align: right;\">\n",
       "      <th></th>\n",
       "      <th>line_cost</th>\n",
       "      <th>unit_cost</th>\n",
       "      <th>qty</th>\n",
       "      <th>final_shipping_rate_lb</th>\n",
       "    </tr>\n",
       "  </thead>\n",
       "  <tbody>\n",
       "    <tr>\n",
       "      <th>0</th>\n",
       "      <td>85597.05</td>\n",
       "      <td>762.71</td>\n",
       "      <td>105</td>\n",
       "      <td>5512.50</td>\n",
       "    </tr>\n",
       "    <tr>\n",
       "      <th>1</th>\n",
       "      <td>629.79</td>\n",
       "      <td>15.09</td>\n",
       "      <td>21</td>\n",
       "      <td>312.90</td>\n",
       "    </tr>\n",
       "    <tr>\n",
       "      <th>2</th>\n",
       "      <td>765.18</td>\n",
       "      <td>7.86</td>\n",
       "      <td>39</td>\n",
       "      <td>458.64</td>\n",
       "    </tr>\n",
       "  </tbody>\n",
       "</table>\n",
       "</div>"
      ],
      "text/plain": [
       "   line_cost  unit_cost  qty  final_shipping_rate_lb\n",
       "0   85597.05     762.71  105                 5512.50\n",
       "1     629.79      15.09   21                  312.90\n",
       "2     765.18       7.86   39                  458.64"
      ]
     },
     "execution_count": 14,
     "metadata": {},
     "output_type": "execute_result"
    }
   ],
   "source": [
    "# Create a column for the cost\n",
    "# of each line using unit cost, qty, and\n",
    "# shipping price (assume the shipping cost\n",
    "# is exactly what is charged to the client).\n",
    "\n",
    "df['line_cost'] = df['unit_cost'] * df['qty'] + df['final_shipping_rate_lb']\n",
    "df[['line_cost', 'unit_cost', 'qty','final_shipping_rate_lb',]].head(3)\n",
    "\n",
    "\n",
    "\n"
   ]
  },
  {
   "cell_type": "code",
   "execution_count": 15,
   "id": "e2389018",
   "metadata": {},
   "outputs": [
    {
     "data": {
      "text/html": [
       "<div>\n",
       "<style scoped>\n",
       "    .dataframe tbody tr th:only-of-type {\n",
       "        vertical-align: middle;\n",
       "    }\n",
       "\n",
       "    .dataframe tbody tr th {\n",
       "        vertical-align: top;\n",
       "    }\n",
       "\n",
       "    .dataframe thead th {\n",
       "        text-align: right;\n",
       "    }\n",
       "</style>\n",
       "<table border=\"1\" class=\"dataframe\">\n",
       "  <thead>\n",
       "    <tr style=\"text-align: right;\">\n",
       "      <th></th>\n",
       "      <th>line_profit</th>\n",
       "      <th>TotalPrice</th>\n",
       "      <th>line_cost</th>\n",
       "    </tr>\n",
       "  </thead>\n",
       "  <tbody>\n",
       "    <tr>\n",
       "      <th>0</th>\n",
       "      <td>46242.03</td>\n",
       "      <td>131839.08</td>\n",
       "      <td>85597.05</td>\n",
       "    </tr>\n",
       "    <tr>\n",
       "      <th>1</th>\n",
       "      <td>284.47</td>\n",
       "      <td>914.26</td>\n",
       "      <td>629.79</td>\n",
       "    </tr>\n",
       "    <tr>\n",
       "      <th>2</th>\n",
       "      <td>311.94</td>\n",
       "      <td>1077.12</td>\n",
       "      <td>765.18</td>\n",
       "    </tr>\n",
       "  </tbody>\n",
       "</table>\n",
       "</div>"
      ],
      "text/plain": [
       "   line_profit  TotalPrice  line_cost\n",
       "0     46242.03   131839.08   85597.05\n",
       "1       284.47      914.26     629.79\n",
       "2       311.94     1077.12     765.18"
      ]
     },
     "execution_count": 15,
     "metadata": {},
     "output_type": "execute_result"
    }
   ],
   "source": [
    "# Create a column for the profit of\n",
    "# each line using line cost and line price\n",
    "df['line_profit'] = df['TotalPrice'] - df['line_cost']\n",
    "df[['line_profit', 'TotalPrice', 'line_cost']].head(3)"
   ]
  },
  {
   "cell_type": "markdown",
   "id": "ef6f62b1",
   "metadata": {},
   "source": [
    "## Part 3: Confirm your work\n",
    "You have email receipts showing that the total prices for 3 orders. Confirm that your calculations match the receipts. Remember, each order has multiple lines.\n",
    "\n",
    "Order ID 2742071 had a total price of \\$152,811.89\n",
    "\n",
    "Order ID 2173913 had a total price of \\$162,388.71\n",
    "\n",
    "Order ID 6128929 had a total price of \\$923,441.25\n"
   ]
  },
  {
   "cell_type": "code",
   "execution_count": 16,
   "metadata": {},
   "outputs": [
    {
     "name": "stdout",
     "output_type": "stream",
     "text": [
      "order 2742071 total: $152811.89\n",
      "order 2173913 total: $162388.71\n",
      "order 6128929 total: $923441.25\n"
     ]
    }
   ],
   "source": [
    "# Check your work using the totals above\n",
    "\n",
    "def find_total_price(order_id):\n",
    "    return df.loc[df['order_id']== order_id,'TotalPrice'].sum()\n",
    "order_ids = [2742071, 2173913, 6128929]\n",
    "\n",
    "for order_id in order_ids:\n",
    "    total_price_found = find_total_price(order_id)\n",
    "    print(f\"order {order_id} total: ${total_price_found:.2f}\")\n"
   ]
  },
  {
   "cell_type": "markdown",
   "id": "b94d58ab",
   "metadata": {},
   "source": [
    "## Part 4: Summarize and Analyze\n",
    "Use the new columns with confirmed values to find the following information."
   ]
  },
  {
   "cell_type": "code",
   "execution_count": 18,
   "id": "7c005f34",
   "metadata": {},
   "outputs": [
    {
     "name": "stdout",
     "output_type": "stream",
     "text": [
      "33615: $8377308.52\n",
      "66037: $10259514.79\n",
      "46820: $9743794.36\n",
      "38378: $12906550.87\n",
      "24741: $82268892.02\n"
     ]
    }
   ],
   "source": [
    "\n",
    "# How much did each of the top 5 clients by quantity spend?\n",
    "def find_total_price(client_id):\n",
    "    return df.loc[df['client_id'] == client_id, 'TotalPrice'].sum()\n",
    "top_5_client_ids = [33615, 66037, 46820, 38378, 24741]\n",
    "for client_id in top_5_client_ids:\n",
    "    total_spent = find_total_price(client_id)\n",
    "    print(f\"{client_id}: ${total_spent:.2f}\")\n"
   ]
  },
  {
   "cell_type": "code",
   "execution_count": null,
   "id": "81b6e4d2",
   "metadata": {},
   "outputs": [],
   "source": [
    "# Create a summary DataFrame showing the totals for the\n",
    "# for the top 5 clients with the following information:\n",
    "# total units purchased, total shipping price,\n",
    "# total revenue, and total profit. Sort by total profit.\n",
    "\n",
    "\n",
    "\n",
    "df['total units purchased', 'total shipping price','total revenue','total profit']"
   ]
  },
  {
   "cell_type": "code",
   "execution_count": 19,
   "id": "1c88aa11",
   "metadata": {},
   "outputs": [
    {
     "data": {
      "text/plain": [
       "Index(['first', 'last', 'job', 'phone', 'email', 'client_id', 'order_id',\n",
       "       'order_date', 'order_week', 'order_year', 'item_id', 'category',\n",
       "       'subcategory', 'unit_price', 'unit_cost', 'unit_weight', 'qty',\n",
       "       'line_number', 'line_subtotal', 'total_weight',\n",
       "       'final_shipping_rate_lb', 'TotalPrice', 'line_cost', 'line_profit'],\n",
       "      dtype='object')"
      ]
     },
     "execution_count": 19,
     "metadata": {},
     "output_type": "execute_result"
    }
   ],
   "source": [
    "df.columns"
   ]
  },
  {
   "cell_type": "code",
   "execution_count": null,
   "metadata": {},
   "outputs": [
    {
     "ename": "KeyError",
     "evalue": "\"['shipping_price', 'line_price'] not in index\"",
     "output_type": "error",
     "traceback": [
      "\u001b[1;31m---------------------------------------------------------------------------\u001b[0m",
      "\u001b[1;31mKeyError\u001b[0m                                  Traceback (most recent call last)",
      "\u001b[1;32mc:\\Users\\traug\\Documents\\DataClass\\pandas-challenge-1\\Starter_Code\\Starter_Code\\module_4_challenge.ipynb Cell 25\u001b[0m line \u001b[0;36m2\n\u001b[0;32m      <a href='vscode-notebook-cell:/c%3A/Users/traug/Documents/DataClass/pandas-challenge-1/Starter_Code/Starter_Code/module_4_challenge.ipynb#X36sZmlsZQ%3D%3D?line=0'>1</a>\u001b[0m df[\u001b[39m'\u001b[39m\u001b[39mline_cost\u001b[39m\u001b[39m'\u001b[39m] \u001b[39m=\u001b[39m df[\u001b[39m'\u001b[39m\u001b[39munit_cost\u001b[39m\u001b[39m'\u001b[39m] \u001b[39m*\u001b[39m df[\u001b[39m'\u001b[39m\u001b[39mqty\u001b[39m\u001b[39m'\u001b[39m] \u001b[39m+\u001b[39m df[\u001b[39m'\u001b[39m\u001b[39mfinal_shipping_rate_lb\u001b[39m\u001b[39m'\u001b[39m]\n\u001b[1;32m----> <a href='vscode-notebook-cell:/c%3A/Users/traug/Documents/DataClass/pandas-challenge-1/Starter_Code/Starter_Code/module_4_challenge.ipynb#X36sZmlsZQ%3D%3D?line=1'>2</a>\u001b[0m df[[\u001b[39m'\u001b[39m\u001b[39mclient_id\u001b[39m\u001b[39m'\u001b[39m, \u001b[39m'\u001b[39m\u001b[39mqty\u001b[39m\u001b[39m'\u001b[39m, \u001b[39m'\u001b[39m\u001b[39mshipping_price\u001b[39m\u001b[39m'\u001b[39m, \u001b[39m'\u001b[39m\u001b[39mline_price\u001b[39m\u001b[39m'\u001b[39m, \u001b[39m'\u001b[39m\u001b[39mline_cost\u001b[39m\u001b[39m'\u001b[39m,\u001b[39m'\u001b[39m\u001b[39mline_profit\u001b[39m\u001b[39m'\u001b[39m]]\u001b[39m.\u001b[39mhead(\u001b[39m5\u001b[39m)\n",
      "File \u001b[1;32mc:\\Users\\traug\\anaconda3\\Lib\\site-packages\\pandas\\core\\frame.py:3902\u001b[0m, in \u001b[0;36mDataFrame.__getitem__\u001b[1;34m(self, key)\u001b[0m\n\u001b[0;32m   3900\u001b[0m     \u001b[39mif\u001b[39;00m is_iterator(key):\n\u001b[0;32m   3901\u001b[0m         key \u001b[39m=\u001b[39m \u001b[39mlist\u001b[39m(key)\n\u001b[1;32m-> 3902\u001b[0m     indexer \u001b[39m=\u001b[39m \u001b[39mself\u001b[39m\u001b[39m.\u001b[39mcolumns\u001b[39m.\u001b[39m_get_indexer_strict(key, \u001b[39m\"\u001b[39m\u001b[39mcolumns\u001b[39m\u001b[39m\"\u001b[39m)[\u001b[39m1\u001b[39m]\n\u001b[0;32m   3904\u001b[0m \u001b[39m# take() does not accept boolean indexers\u001b[39;00m\n\u001b[0;32m   3905\u001b[0m \u001b[39mif\u001b[39;00m \u001b[39mgetattr\u001b[39m(indexer, \u001b[39m\"\u001b[39m\u001b[39mdtype\u001b[39m\u001b[39m\"\u001b[39m, \u001b[39mNone\u001b[39;00m) \u001b[39m==\u001b[39m \u001b[39mbool\u001b[39m:\n",
      "File \u001b[1;32mc:\\Users\\traug\\anaconda3\\Lib\\site-packages\\pandas\\core\\indexes\\base.py:6114\u001b[0m, in \u001b[0;36mIndex._get_indexer_strict\u001b[1;34m(self, key, axis_name)\u001b[0m\n\u001b[0;32m   6111\u001b[0m \u001b[39melse\u001b[39;00m:\n\u001b[0;32m   6112\u001b[0m     keyarr, indexer, new_indexer \u001b[39m=\u001b[39m \u001b[39mself\u001b[39m\u001b[39m.\u001b[39m_reindex_non_unique(keyarr)\n\u001b[1;32m-> 6114\u001b[0m \u001b[39mself\u001b[39m\u001b[39m.\u001b[39m_raise_if_missing(keyarr, indexer, axis_name)\n\u001b[0;32m   6116\u001b[0m keyarr \u001b[39m=\u001b[39m \u001b[39mself\u001b[39m\u001b[39m.\u001b[39mtake(indexer)\n\u001b[0;32m   6117\u001b[0m \u001b[39mif\u001b[39;00m \u001b[39misinstance\u001b[39m(key, Index):\n\u001b[0;32m   6118\u001b[0m     \u001b[39m# GH 42790 - Preserve name from an Index\u001b[39;00m\n",
      "File \u001b[1;32mc:\\Users\\traug\\anaconda3\\Lib\\site-packages\\pandas\\core\\indexes\\base.py:6178\u001b[0m, in \u001b[0;36mIndex._raise_if_missing\u001b[1;34m(self, key, indexer, axis_name)\u001b[0m\n\u001b[0;32m   6175\u001b[0m     \u001b[39mraise\u001b[39;00m \u001b[39mKeyError\u001b[39;00m(\u001b[39mf\u001b[39m\u001b[39m\"\u001b[39m\u001b[39mNone of [\u001b[39m\u001b[39m{\u001b[39;00mkey\u001b[39m}\u001b[39;00m\u001b[39m] are in the [\u001b[39m\u001b[39m{\u001b[39;00maxis_name\u001b[39m}\u001b[39;00m\u001b[39m]\u001b[39m\u001b[39m\"\u001b[39m)\n\u001b[0;32m   6177\u001b[0m not_found \u001b[39m=\u001b[39m \u001b[39mlist\u001b[39m(ensure_index(key)[missing_mask\u001b[39m.\u001b[39mnonzero()[\u001b[39m0\u001b[39m]]\u001b[39m.\u001b[39munique())\n\u001b[1;32m-> 6178\u001b[0m \u001b[39mraise\u001b[39;00m \u001b[39mKeyError\u001b[39;00m(\u001b[39mf\u001b[39m\u001b[39m\"\u001b[39m\u001b[39m{\u001b[39;00mnot_found\u001b[39m}\u001b[39;00m\u001b[39m not in index\u001b[39m\u001b[39m\"\u001b[39m)\n",
      "\u001b[1;31mKeyError\u001b[0m: \"['shipping_price', 'line_price'] not in index\""
     ]
    }
   ],
   "source": [
    "# df['line_cost'] = df['unit_cost'] * df['qty'] + df['final_shipping_rate_lb']\n",
    "# df[['client_id', 'qty', 'shipping_price', 'line_price', 'line_cost','line_profit']].head(5)\n"
   ]
  },
  {
   "cell_type": "code",
   "execution_count": null,
   "id": "7be02867",
   "metadata": {},
   "outputs": [],
   "source": [
    "# Format the data and rename the columns\n",
    "# to names suitable for presentation.\n",
    "# Currency should be in millions of dollars.\n",
    "\n"
   ]
  },
  {
   "cell_type": "code",
   "execution_count": null,
   "id": "8ead0986",
   "metadata": {},
   "outputs": [
    {
     "data": {
      "text/html": [
       "<div>\n",
       "<style scoped>\n",
       "    .dataframe tbody tr th:only-of-type {\n",
       "        vertical-align: middle;\n",
       "    }\n",
       "\n",
       "    .dataframe tbody tr th {\n",
       "        vertical-align: top;\n",
       "    }\n",
       "\n",
       "    .dataframe thead th {\n",
       "        text-align: right;\n",
       "    }\n",
       "</style>\n",
       "<table border=\"1\" class=\"dataframe\">\n",
       "  <thead>\n",
       "    <tr style=\"text-align: right;\">\n",
       "      <th></th>\n",
       "      <th>Client ID</th>\n",
       "      <th>Units</th>\n",
       "      <th>Shipping</th>\n",
       "      <th>Total Revenue</th>\n",
       "      <th>Total Cost</th>\n",
       "      <th>Total Profit</th>\n",
       "    </tr>\n",
       "  </thead>\n",
       "  <tbody>\n",
       "    <tr>\n",
       "      <th>4</th>\n",
       "      <td>24741</td>\n",
       "      <td>239862</td>\n",
       "      <td>$5.13M</td>\n",
       "      <td>$82.27M</td>\n",
       "      <td>$45.69M</td>\n",
       "      <td>$36.58M</td>\n",
       "    </tr>\n",
       "    <tr>\n",
       "      <th>3</th>\n",
       "      <td>38378</td>\n",
       "      <td>73667</td>\n",
       "      <td>$3.43M</td>\n",
       "      <td>$12.91M</td>\n",
       "      <td>$9.63M</td>\n",
       "      <td>$3.27M</td>\n",
       "    </tr>\n",
       "    <tr>\n",
       "      <th>1</th>\n",
       "      <td>66037</td>\n",
       "      <td>43018</td>\n",
       "      <td>$1.40M</td>\n",
       "      <td>$10.26M</td>\n",
       "      <td>$7.00M</td>\n",
       "      <td>$3.26M</td>\n",
       "    </tr>\n",
       "    <tr>\n",
       "      <th>2</th>\n",
       "      <td>46820</td>\n",
       "      <td>75768</td>\n",
       "      <td>$1.60M</td>\n",
       "      <td>$9.74M</td>\n",
       "      <td>$7.01M</td>\n",
       "      <td>$2.74M</td>\n",
       "    </tr>\n",
       "    <tr>\n",
       "      <th>0</th>\n",
       "      <td>33615</td>\n",
       "      <td>64313</td>\n",
       "      <td>$1.83M</td>\n",
       "      <td>$8.38M</td>\n",
       "      <td>$6.18M</td>\n",
       "      <td>$2.20M</td>\n",
       "    </tr>\n",
       "  </tbody>\n",
       "</table>\n",
       "</div>"
      ],
      "text/plain": [
       "   Client ID   Units Shipping Total Revenue Total Cost Total Profit\n",
       "4      24741  239862   $5.13M       $82.27M    $45.69M      $36.58M\n",
       "3      38378   73667   $3.43M       $12.91M     $9.63M       $3.27M\n",
       "1      66037   43018   $1.40M       $10.26M     $7.00M       $3.26M\n",
       "2      46820   75768   $1.60M        $9.74M     $7.01M       $2.74M\n",
       "0      33615   64313   $1.83M        $8.38M     $6.18M       $2.20M"
      ]
     },
     "execution_count": 19,
     "metadata": {},
     "output_type": "execute_result"
    }
   ],
   "source": [
    "# Sort the updated data by \"Total Profit\" form highest to lowest\n"
   ]
  },
  {
   "cell_type": "code",
   "execution_count": null,
   "id": "6589d63c",
   "metadata": {},
   "outputs": [],
   "source": [
    "#Write a brief 2-3 summary of your findings\n",
    "\"\"\" So we can put stuff in here\"\"\""
   ]
  }
 ],
 "metadata": {
  "kernelspec": {
   "display_name": "Python 3 (ipykernel)",
   "language": "python",
   "name": "python3"
  },
  "language_info": {
   "codemirror_mode": {
    "name": "ipython",
    "version": 3
   },
   "file_extension": ".py",
   "mimetype": "text/x-python",
   "name": "python",
   "nbconvert_exporter": "python",
   "pygments_lexer": "ipython3",
   "version": "3.11.5"
  }
 },
 "nbformat": 4,
 "nbformat_minor": 5
}
